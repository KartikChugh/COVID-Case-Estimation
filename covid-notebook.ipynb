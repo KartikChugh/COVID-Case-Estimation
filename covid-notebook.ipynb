{
 "cells": [
  {
   "cell_type": "markdown",
   "metadata": {},
   "source": [
    "# Unbiasing COVID-19 Case Count\n",
    "Kartik Chugh - May 3, 2020"
   ]
  },
  {
   "cell_type": "code",
   "execution_count": 2,
   "metadata": {},
   "outputs": [],
   "source": [
    "import numpy as np\n",
    "import pandas as pd\n",
    "from matplotlib import pyplot as plt"
   ]
  },
  {
   "cell_type": "code",
   "execution_count": 14,
   "metadata": {},
   "outputs": [
    {
     "data": {
      "text/plain": [
       "date\n",
       "2020-05-02    1125719\n",
       "2020-05-01    1095681\n",
       "2020-04-30    1062134\n",
       "2020-04-29    1033157\n",
       "2020-04-28    1005592\n",
       "               ...   \n",
       "2020-01-26          1\n",
       "2020-01-25          1\n",
       "2020-01-24          1\n",
       "2020-01-23          1\n",
       "2020-01-22          1\n",
       "Name: positive, Length: 102, dtype: int64"
      ]
     },
     "execution_count": 14,
     "metadata": {},
     "output_type": "execute_result"
    }
   ],
   "source": [
    "url = 'https://covidtracking.com/api/v1/us/daily.csv'\n",
    "pd.read_csv(url, \n",
    "            usecols=['date', 'positive'], \n",
    "            parse_dates=['date'], \n",
    "            index_col=['date'], squeeze=True)"
   ]
  },
  {
   "cell_type": "code",
   "execution_count": null,
   "metadata": {},
   "outputs": [],
   "source": []
  }
 ],
 "metadata": {
  "kernelspec": {
   "display_name": "Python 3",
   "language": "python",
   "name": "python3"
  },
  "language_info": {
   "codemirror_mode": {
    "name": "ipython",
    "version": 3
   },
   "file_extension": ".py",
   "mimetype": "text/x-python",
   "name": "python",
   "nbconvert_exporter": "python",
   "pygments_lexer": "ipython3",
   "version": "3.7.4"
  }
 },
 "nbformat": 4,
 "nbformat_minor": 2
}
