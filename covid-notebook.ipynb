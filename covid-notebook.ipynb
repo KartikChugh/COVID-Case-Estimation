{
 "cells": [
  {
   "cell_type": "markdown",
   "metadata": {},
   "source": [
    "# Unbiasing COVID-19 Case Count\n",
    "Kartik Chugh - May 3, 2020"
   ]
  },
  {
   "cell_type": "markdown",
   "metadata": {},
   "source": [
    " <img src=\"china-data.png\" />"
   ]
  },
  {
   "cell_type": "code",
   "execution_count": null,
   "metadata": {},
   "outputs": [],
   "source": [
    "import numpy as np\n",
    "import pandas as pd\n",
    "from pandas import Timestamp\n",
    "from matplotlib import pyplot as plt\n",
    "from datetime import datetime, timedelta\n",
    "np.set_printoptions(suppress=True,\n",
    "   formatter={'float_kind':'{:0.3f}'.format})"
   ]
  },
  {
   "cell_type": "code",
   "execution_count": null,
   "metadata": {},
   "outputs": [],
   "source": [
    "ONSET_TO_DEATH = 17 # https://midasnetwork.us/covid-19/\n",
    "MORTALITY_RATE = 0.01 * 10\n",
    "#DOUBLING_TIME = 2.5"
   ]
  },
  {
   "cell_type": "code",
   "execution_count": null,
   "metadata": {},
   "outputs": [],
   "source": [
    "url = 'https://covidtracking.com/api/v1/us/daily.csv'\n",
    "df = pd.read_csv(url, \n",
    "            usecols=['date', 'positiveIncrease', 'deathIncrease', 'positive'], \n",
    "            parse_dates=['date'], \n",
    "            index_col=['date']).sort_index().iloc[31:]\n",
    "\n",
    "time = df.index\n",
    "positive = np.array(df['positive'])"
   ]
  },
  {
   "cell_type": "code",
   "execution_count": null,
   "metadata": {},
   "outputs": [],
   "source": [
    "pd.set_option('display.max_rows', None)\n",
    "df"
   ]
  },
  {
   "cell_type": "code",
   "execution_count": null,
   "metadata": {},
   "outputs": [],
   "source": [
    "def doublingTime(a, b):\n",
    "    return np.log(2)/np.log(b/a) if (a != b) else NaN\n",
    "\n",
    "doubling = np.empty(positive.shape)\n",
    "for t_2 in range(1, len(doubling)):\n",
    "    doubling[t_2] = doublingTime(positive[t_2-1], positive[t_2])\n",
    "    \n",
    "doubling_orig = pd.DataFrame(doubling, columns=['doubling'])\n",
    "doubling_orig = doubling_orig.set_index(time)\n",
    "    \n",
    "doubling_smooth = doubling_orig.rolling(7,\n",
    "        win_type='gaussian',\n",
    "        center=True).mean(std=2).round()"
   ]
  },
  {
   "cell_type": "code",
   "execution_count": null,
   "metadata": {},
   "outputs": [],
   "source": [
    "plt.plot(doubling_orig)\n",
    "plt.plot(doubling_smooth)"
   ]
  },
  {
   "cell_type": "code",
   "execution_count": null,
   "metadata": {},
   "outputs": [],
   "source": [
    "doubling_orig.plot(title='Coronavirus Doubling Time',\n",
    "                   c='k',\n",
    "                   linestyle=':',\n",
    "                   alpha=.5,\n",
    "                   label='Actual',\n",
    "                   legend=True)\n",
    "\n",
    "ax = doubling_smooth.plot(label='Smoothed',\n",
    "                   legend=True)\n",
    "\n",
    "ax.get_figure().set_facecolor('w')"
   ]
  },
  {
   "cell_type": "code",
   "execution_count": null,
   "metadata": {},
   "outputs": [],
   "source": [
    "firstDeathDate = data['deathIncrease'].ne(0).idxmax()\n",
    "#firstDeathDate = Timestamp('2020-03-15')\n",
    "firstDeathDate"
   ]
  },
  {
   "cell_type": "code",
   "execution_count": null,
   "metadata": {},
   "outputs": [],
   "source": [
    "daysLeft = (data.index[-1] - firstDeathDate).days\n",
    "daysLeft"
   ]
  },
  {
   "cell_type": "code",
   "execution_count": null,
   "metadata": {},
   "outputs": [],
   "source": [
    "firstDeathCount = data['deathIncrease'][firstDeathDate]\n",
    "firstDeathCount"
   ]
  },
  {
   "cell_type": "code",
   "execution_count": null,
   "metadata": {},
   "outputs": [],
   "source": [
    "firstTrueCaseDate = firstDeathDate - timedelta(days = ONSET_TO_DEATH)\n",
    "firstTrueCaseDate"
   ]
  },
  {
   "cell_type": "code",
   "execution_count": null,
   "metadata": {},
   "outputs": [],
   "source": [
    "firstTrueCaseCount = firstDeathCount / MORTALITY_RATE\n",
    "firstTrueCaseCount"
   ]
  },
  {
   "cell_type": "code",
   "execution_count": null,
   "metadata": {},
   "outputs": [],
   "source": [
    "trueCaseCounts = np.logspace(1/DOUBLING_TIME, daysLeft/DOUBLING_TIME, base=2, num=daysLeft)*firstTrueCaseCount"
   ]
  },
  {
   "cell_type": "code",
   "execution_count": null,
   "metadata": {},
   "outputs": [],
   "source": [
    "new = pd.DataFrame(data=trueCaseCounts, index=data.index[-daysLeft:])"
   ]
  },
  {
   "cell_type": "code",
   "execution_count": null,
   "metadata": {},
   "outputs": [],
   "source": [
    "plt.plot(data)"
   ]
  }
 ],
 "metadata": {
  "kernelspec": {
   "display_name": "Python 3",
   "language": "python",
   "name": "python3"
  },
  "language_info": {
   "codemirror_mode": {
    "name": "ipython",
    "version": 3
   },
   "file_extension": ".py",
   "mimetype": "text/x-python",
   "name": "python",
   "nbconvert_exporter": "python",
   "pygments_lexer": "ipython3",
   "version": "3.7.4"
  }
 },
 "nbformat": 4,
 "nbformat_minor": 2
}
